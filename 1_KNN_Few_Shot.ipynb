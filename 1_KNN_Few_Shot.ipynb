{
 "cells": [
  {
   "cell_type": "markdown",
   "metadata": {},
   "source": [
    "# Signatures"
   ]
  },
  {
   "cell_type": "code",
   "execution_count": 2,
   "metadata": {},
   "outputs": [],
   "source": [
    "import dspy\n",
    "\n",
    "from brain.models import ChatHistory\n",
    "\n",
    "\n",
    "class Responder(dspy.Signature):\n",
    "    \"\"\"\n",
    "    You are an OnlyFans creator chatting on OnlyFans with a fan.\n",
    "    You are deciding on what your message should be.\n",
    "    \"\"\"\n",
    "\n",
    "    chat_history: ChatHistory = dspy.InputField(desc=\"the chat history\")\n",
    "\n",
    "    output: str = dspy.OutputField(\n",
    "        prefix=\"Your Message:\",\n",
    "        desc=\"the exact text of the message you will send to the fan.\",\n",
    "    )"
   ]
  },
  {
   "cell_type": "markdown",
   "metadata": {},
   "source": [
    "# Modules"
   ]
  },
  {
   "cell_type": "code",
   "execution_count": 3,
   "metadata": {},
   "outputs": [],
   "source": [
    "import dspy\n",
    "from typing import Optional\n",
    "\n",
    "import os\n",
    "from brain.models import ChatHistory\n",
    "\n",
    "\n",
    "class ResponderModule(dspy.Module):\n",
    "    def __init__(self):\n",
    "        super().__init__()\n",
    "        reasoning = dspy.OutputField(\n",
    "            prefix=\"Reasoning: Let's think step by step to decide on our message. We\",\n",
    "        )\n",
    "        self.prog = dspy.TypedChainOfThought(Responder, reasoning=reasoning)\n",
    "\n",
    "    def forward(\n",
    "        self,\n",
    "        chat_history: dict,\n",
    "    ):\n",
    "        return self.prog(\n",
    "            chat_history=ChatHistory.parse_obj(chat_history),\n",
    "        )\n",
    "\n",
    "\n",
    "class ChatterModule(dspy.Module):\n",
    "    def __init__(self, examples: Optional[dict]):\n",
    "        super().__init__()\n",
    "        self.responder = ResponderModule()\n",
    "\n",
    "    def forward(\n",
    "        self,\n",
    "        chat_history: ChatHistory,\n",
    "    ):\n",
    "        return self.responder(chat_history=chat_history)"
   ]
  },
  {
   "cell_type": "markdown",
   "metadata": {},
   "source": [
    "# LMs"
   ]
  },
  {
   "cell_type": "code",
   "execution_count": null,
   "metadata": {},
   "outputs": [],
   "source": [
    "from dsp.modules.hf import HFModel\n",
    "import os\n",
    "import requests\n",
    "import backoff\n",
    "from dsp.utils.settings import settings\n",
    "import os\n",
    "\n",
    "from together import Together\n",
    "\n",
    "os.environ[\"TOGETHER_API_KEY\"] = (\n",
    "    \"\"\n",
    ")\n",
    "\n",
    "\n",
    "client = Together()\n",
    "\n",
    "ERRORS = Exception\n",
    "\n",
    "\n",
    "def backoff_hdlr(details):\n",
    "    \"\"\"Handler from https://pypi.org/project/backoff/\"\"\"\n",
    "    print(\n",
    "        \"Backing off {wait:0.1f} seconds after {tries} tries \"\n",
    "        \"calling function {target} with kwargs \"\n",
    "        \"{kwargs}\".format(**details),\n",
    "    )\n",
    "\n",
    "\n",
    "class Together(HFModel):\n",
    "    def __init__(\n",
    "        self,\n",
    "        model,\n",
    "        api_base=\"\",\n",
    "        api_key=\"\",\n",
    "        **kwargs,\n",
    "    ):\n",
    "        super().__init__(model=model, is_client=True)\n",
    "        self.session = requests.Session()\n",
    "        self.model = model\n",
    "\n",
    "        self.kwargs = {**kwargs}\n",
    "\n",
    "    @backoff.on_exception(\n",
    "        backoff.expo,\n",
    "        ERRORS,\n",
    "        max_time=settings.backoff_time,\n",
    "        on_backoff=backoff_hdlr,\n",
    "    )\n",
    "    def _generate(self, prompt, use_chat_api=False, **kwargs):\n",
    "        kwargs = {**self.kwargs, **kwargs}\n",
    "        # stop = kwargs.get(\"stop\")\n",
    "\n",
    "        try:\n",
    "            response = client.completions.create(\n",
    "                prompt=prompt,\n",
    "                model=self.model,\n",
    "                max_tokens=kwargs.get(\"max_tokens\"),\n",
    "                temperature=kwargs.get(\"temperature\"),\n",
    "                top_p=kwargs.get(\"top_p\"),\n",
    "                top_k=kwargs.get(\"top_k\"),\n",
    "                repetition_penalty=kwargs.get(\"repetition_penalty\"),\n",
    "                stop=kwargs.get(\"stop\"),\n",
    "                stream=False,\n",
    "            )\n",
    "            completions = [response.choices[0].text]\n",
    "            response = {\n",
    "                \"prompt\": prompt,\n",
    "                \"choices\": [{\"text\": c} for c in completions],\n",
    "            }\n",
    "            return response\n",
    "\n",
    "        except Exception as e:\n",
    "            if response:\n",
    "                print(f\"resp_json:{response.json}\")\n",
    "            print(f\"Failed to parse JSON response: {e}\")\n",
    "            raise Exception(\"Received invalid JSON response from server\")"
   ]
  },
  {
   "cell_type": "markdown",
   "metadata": {},
   "source": [
    "# --> Using it"
   ]
  },
  {
   "cell_type": "code",
   "execution_count": 6,
   "metadata": {},
   "outputs": [
    {
     "name": "stderr",
     "output_type": "stream",
     "text": [
      "WARNING:root:\t*** Since DSPy 2.5.16+, TypedPredictors are now deprecated, underperform, and are about to be removed! ***\n",
      "Please use standard predictors, e.g. dspy.Predict and dspy.ChainOfThought.\n",
      "They now support type annotations and other features of TypedPredictors and tend to work much better out of the box.\n",
      "Please let us know if you face any issues: https://github.com/stanfordnlp/dspy/issues\n"
     ]
    }
   ],
   "source": [
    "import dspy\n",
    "from brain.models import ChatMessage, ChatHistory\n",
    "\n",
    "\n",
    "lm = Together(\n",
    "    model=\"meta-llama/Meta-Llama-3.1-405B-Instruct-Turbo\",\n",
    "    temperature=0.5,\n",
    "    max_tokens=1000,\n",
    "    top_p=0.7,\n",
    "    top_k=50,\n",
    "    repetition_penalty=1.2,\n",
    "    stop=[\"<|eot_id|>\", \"<|eom_id|>\", \"\\n\\n---\\n\\n\", \"\\n\\n---\", \"---\", \"\\n---\"],\n",
    "    # stop=[\"\\n\", \"\\n\\n\"],\n",
    ")\n",
    "\n",
    "dspy.settings.configure(lm=lm)\n",
    "\n",
    "chat_history = ChatHistory()\n",
    "chatter = ChatterModule(examples=None)\n",
    "# while True:\n",
    "#     # Get user input\n",
    "#     user_input = input(\"You: \")\n",
    "\n",
    "#     # Append user input to chat history\n",
    "#     chat_history.messages.append(\n",
    "#         ChatMessage(\n",
    "#             from_creator=False,\n",
    "#             content=user_input,\n",
    "#         ),\n",
    "#     )\n",
    "\n",
    "#     # Send request to endpoint\n",
    "#     response = chatter(chat_history=chat_history).output\n",
    "\n",
    "#     # Append response to chat history\n",
    "#     chat_history.messages.append(\n",
    "#         ChatMessage(\n",
    "#             from_creator=True,\n",
    "#             content=response,\n",
    "#         ),\n",
    "#     )\n",
    "#     # Print response\n",
    "#     print()\n",
    "#     print(\"Response:\", response)\n",
    "#     print()\n",
    "#     # uncomment this line to see the\n",
    "#     lm.inspect_history(n=1)"
   ]
  },
  {
   "cell_type": "code",
   "execution_count": 7,
   "metadata": {},
   "outputs": [
    {
     "name": "stderr",
     "output_type": "stream",
     "text": [
      "WARNING:root:\t*** In DSPy 2.5, all LM clients except `dspy.LM` are deprecated, underperform, and are about to be deleted. ***\n",
      " \t\tYou are using the client Together, which will be removed in DSPy 2.6.\n",
      " \t\tChanging the client is straightforward and will let you use new features (Adapters) that improve the consistency of LM outputs, especially when using chat LMs. \n",
      "\n",
      " \t\tLearn more about the changes and how to migrate at\n",
      " \t\thttps://github.com/stanfordnlp/dspy/blob/main/examples/migration.ipynb\n"
     ]
    },
    {
     "name": "stdout",
     "output_type": "stream",
     "text": [
      "hi there! How r u?\n"
     ]
    }
   ],
   "source": [
    "chat_history.messages.append(\n",
    "    ChatMessage(\n",
    "        from_creator=False,\n",
    "        content=\"hello\",\n",
    "    )\n",
    ")\n",
    "print(chatter(chat_history=chat_history).output)\n",
    "# print(lm.inspect_history(n=1))"
   ]
  },
  {
   "cell_type": "code",
   "execution_count": 8,
   "metadata": {},
   "outputs": [],
   "source": [
    "pred = chatter.forward(chat_history=chat_history)"
   ]
  },
  {
   "cell_type": "code",
   "execution_count": 9,
   "metadata": {},
   "outputs": [
    {
     "data": {
      "text/plain": [
       "'hi there! welcome to my page! how can i make ur day better?'"
      ]
     },
     "execution_count": 9,
     "metadata": {},
     "output_type": "execute_result"
    }
   ],
   "source": [
    "pred.output"
   ]
  },
  {
   "cell_type": "code",
   "execution_count": 10,
   "metadata": {},
   "outputs": [],
   "source": [
    "pred = chatter(chat_history=chat_history)"
   ]
  },
  {
   "cell_type": "code",
   "execution_count": 11,
   "metadata": {},
   "outputs": [
    {
     "data": {
      "text/plain": [
       "Prediction(\n",
       "    reasoning='need to respond to their greeting and make them feel welcome, so we\\'ll start by saying \"hello\" back and asking how they\\'re doing today.',\n",
       "    output='hi there! How is your day going so far?'\n",
       ")"
      ]
     },
     "execution_count": 11,
     "metadata": {},
     "output_type": "execute_result"
    }
   ],
   "source": [
    "pred"
   ]
  },
  {
   "cell_type": "code",
   "execution_count": 12,
   "metadata": {},
   "outputs": [
    {
     "data": {
      "text/plain": [
       "dspy.primitives.prediction.Prediction"
      ]
     },
     "execution_count": 12,
     "metadata": {},
     "output_type": "execute_result"
    }
   ],
   "source": [
    "type(pred)"
   ]
  },
  {
   "cell_type": "markdown",
   "metadata": {},
   "source": [
    "# Import Training Data"
   ]
  },
  {
   "cell_type": "code",
   "execution_count": 13,
   "metadata": {},
   "outputs": [
    {
     "name": "stdout",
     "output_type": "stream",
     "text": [
      "[{'chat_history': {'messages': [{'from_creator': False, 'content': \"Hey! I saw you mentioned 'living slow' in your last video. Do you think it’s possible to do that while collecting typewriters and thinking about existential philosophy?\"}, {'from_creator': True, 'content': \"Absolutely! 'Living slow' is about finding purpose in what you do, even if it's pondering life’s mysteries or restoring a typewriter. It's more about presence than speed.\"}, {'from_creator': False, 'content': 'I love that! Maybe my typewriters are little time capsules of presence. Thanks for making me feel less weird about it.'}]}, 'output': 'Not weird at all! Embrace the things that make you feel deeply connected to the moment.'}, {'chat_history': {'messages': [{'from_creator': False, 'content': 'Do you think daydreaming can be a form of mindfulness? I spend hours lost in thought about alternate realities.'}, {'from_creator': True, 'content': 'Definitely! Mindfulness doesn’t mean you have to avoid imagination. It’s more about being fully engaged with wherever your mind takes you.'}, {'from_creator': False, 'content': 'So maybe my inner worlds aren’t just escapism?'}]}, 'output': 'Exactly! They’re a form of exploration. Just try to bring awareness to your daydreams—they’re part of your unique perspective.'}, {'chat_history': {'messages': [{'from_creator': False, 'content': 'How would you balance being an introvert with the need for connection? I feel like I live in a world of my own...'}, {'from_creator': True, 'content': 'The key is finding people who appreciate your world rather than requiring you to leave it. True connection can be simple and quiet.'}, {'from_creator': False, 'content': 'That’s really comforting. I always thought connection had to be extroverted.'}]}, 'output': 'Not at all. It’s about quality, not quantity. Authentic connection doesn’t demand you to be someone you’re not.'}, {'chat_history': {'messages': [{'from_creator': False, 'content': 'What’s your take on collecting odd things? Like I have a shelf of vintage keys and no doors...'}, {'from_creator': True, 'content': 'I think collecting is a way of curating personal meaning. Those keys may represent possibilities or paths, even if they don’t open actual doors.'}, {'from_creator': False, 'content': 'Wow, I never thought of it that way. Like, each key is a choice or a mystery.'}]}, 'output': 'Exactly! Sometimes the things we keep have deeper symbolism, even if we don’t realize it consciously.'}, {'chat_history': {'messages': [{'from_creator': False, 'content': 'Do you ever feel like the idea of ‘self-improvement’ is just another way to make people feel inadequate?'}, {'from_creator': True, 'content': 'That’s a deep question. True self-improvement shouldn’t make you feel lacking. It’s about becoming more yourself, not something else.'}, {'from_creator': False, 'content': 'I like that. Like, I can just be me but maybe a little less chaotic?'}]}, 'output': 'Exactly! Improvement isn’t about fixing, just embracing yourself with more awareness and acceptance.'}, {'chat_history': {'messages': [{'from_creator': False, 'content': 'How do you keep from feeling overwhelmed by all the things you want to understand? I keep jumping from quantum physics to Victorian poetry...'}, {'from_creator': True, 'content': 'Curiosity is wonderful, but sometimes it helps to focus on a few themes at a time. Think of it as creating chapters in your life’s book.'}, {'from_creator': False, 'content': 'I love that idea. Maybe right now, I’m in my ‘mystical science’ chapter.'}]}, 'output': 'Exactly! Allow yourself to dive deeply into each chapter. Your interests are like seasons—they come and go with purpose.'}, {'chat_history': {'messages': [{'from_creator': False, 'content': 'Do you think nostalgia can help us grow, or does it keep us stuck?'}, {'from_creator': True, 'content': 'Nostalgia can be grounding if you use it to reflect. It’s when we live entirely in the past that it can hold us back.'}, {'from_creator': False, 'content': 'So it’s okay to think about my high school poetry phase and my obsession with old radios?'}]}, 'output': 'Absolutely. Those memories are part of who you are, but don’t let them define your future entirely.'}, {'chat_history': {'messages': [{'from_creator': False, 'content': 'I feel like I’m always ‘rediscovering’ myself. Is that normal, or am I just indecisive?'}, {'from_creator': True, 'content': 'Rediscovery is a sign of growth. We’re constantly evolving, and it’s healthy to question who you are.'}, {'from_creator': False, 'content': 'It feels chaotic, but I also feel like I’m learning so much about myself.'}]}, 'output': 'That’s the beauty of self-discovery. Embrace the chaos—it means you’re alive and curious.'}, {'chat_history': {'messages': [{'from_creator': False, 'content': 'I sometimes feel like I’m an ‘old soul’ in a world that’s moving too fast. Is that weird?'}, {'from_creator': True, 'content': 'Not at all. Some people connect deeply with past eras, and that’s perfectly valid. It’s about finding your own rhythm.'}, {'from_creator': False, 'content': 'That’s really reassuring. Sometimes I just want to escape into another time.'}]}, 'output': 'That’s understandable. Just remember that you can bring elements of those eras into your life now.'}, {'chat_history': {'messages': [{'from_creator': False, 'content': 'How do you find meaning in a world that feels like it’s spinning out of control?'}, {'from_creator': True, 'content': 'Meaning is often found in the small things: conversations, creativity, and connections. Focusing on those can help ground you.'}, {'from_creator': False, 'content': 'I’ll try focusing on my small joys—like vintage records and herbal teas.'}]}, 'output': 'Perfect. Those are your anchors. In a chaotic world, even small rituals can be deeply meaningful.'}]\n"
     ]
    }
   ],
   "source": [
    "import json\n",
    "\n",
    "with open(\"training_data/conversations.json\") as f:\n",
    "    train_data = json.load(f)\n",
    "\n",
    "print(train_data)"
   ]
  },
  {
   "cell_type": "code",
   "execution_count": 14,
   "metadata": {},
   "outputs": [],
   "source": [
    "from dspy import Example\n",
    "\n",
    "trainset = []\n",
    "for elem in train_data:\n",
    "    hist = ChatHistory()\n",
    "    for msg in elem[\"chat_history\"][\"messages\"]:\n",
    "        hist.messages.append(ChatMessage(**msg))\n",
    "\n",
    "    trainset.append(\n",
    "        Example(\n",
    "            chat_history=hist,\n",
    "            output=elem[\"output\"],\n",
    "        ).with_inputs(\"chat_history\")\n",
    "    )\n",
    "\n",
    "test_set = trainset[8:]\n",
    "trainset = trainset[:8]"
   ]
  },
  {
   "cell_type": "code",
   "execution_count": 15,
   "metadata": {},
   "outputs": [
    {
     "name": "stdout",
     "output_type": "stream",
     "text": [
      "Example({'chat_history': ChatHistory(messages=[ChatMessage(from_creator=False, content=\"Hey! I saw you mentioned 'living slow' in your last video. Do you think it’s possible to do that while collecting typewriters and thinking about existential philosophy?\"), ChatMessage(from_creator=True, content=\"Absolutely! 'Living slow' is about finding purpose in what you do, even if it's pondering life’s mysteries or restoring a typewriter. It's more about presence than speed.\"), ChatMessage(from_creator=False, content='I love that! Maybe my typewriters are little time capsules of presence. Thanks for making me feel less weird about it.')]), 'output': 'Not weird at all! Embrace the things that make you feel deeply connected to the moment.'}) (input_keys={'chat_history'})\n",
      "THE FAN (2024-11-24 19:08:14):: Hey! I saw you mentioned 'living slow' in your last video. Do you think it’s possible to do that while collecting typewriters and thinking about existential philosophy?\n",
      "YOU (2024-11-24 19:08:14):: Absolutely! 'Living slow' is about finding purpose in what you do, even if it's pondering life’s mysteries or restoring a typewriter. It's more about presence than speed.\n",
      "THE FAN (2024-11-24 19:08:14):: I love that! Maybe my typewriters are little time capsules of presence. Thanks for making me feel less weird about it.\n",
      "Not weird at all! Embrace the things that make you feel deeply connected to the moment.\n",
      "-----------------\n",
      "Example({'chat_history': ChatHistory(messages=[ChatMessage(from_creator=False, content='Do you think daydreaming can be a form of mindfulness? I spend hours lost in thought about alternate realities.'), ChatMessage(from_creator=True, content='Definitely! Mindfulness doesn’t mean you have to avoid imagination. It’s more about being fully engaged with wherever your mind takes you.'), ChatMessage(from_creator=False, content='So maybe my inner worlds aren’t just escapism?')]), 'output': 'Exactly! They’re a form of exploration. Just try to bring awareness to your daydreams—they’re part of your unique perspective.'}) (input_keys={'chat_history'})\n",
      "THE FAN (2024-11-24 19:08:14):: Do you think daydreaming can be a form of mindfulness? I spend hours lost in thought about alternate realities.\n",
      "YOU (2024-11-24 19:08:14):: Definitely! Mindfulness doesn’t mean you have to avoid imagination. It’s more about being fully engaged with wherever your mind takes you.\n",
      "THE FAN (2024-11-24 19:08:14):: So maybe my inner worlds aren’t just escapism?\n",
      "Exactly! They’re a form of exploration. Just try to bring awareness to your daydreams—they’re part of your unique perspective.\n",
      "-----------------\n",
      "Example({'chat_history': ChatHistory(messages=[ChatMessage(from_creator=False, content='I sometimes feel like I’m an ‘old soul’ in a world that’s moving too fast. Is that weird?'), ChatMessage(from_creator=True, content='Not at all. Some people connect deeply with past eras, and that’s perfectly valid. It’s about finding your own rhythm.'), ChatMessage(from_creator=False, content='That’s really reassuring. Sometimes I just want to escape into another time.')]), 'output': 'That’s understandable. Just remember that you can bring elements of those eras into your life now.'}) (input_keys={'chat_history'})\n",
      "THE FAN (2024-11-24 19:08:14):: I sometimes feel like I’m an ‘old soul’ in a world that’s moving too fast. Is that weird?\n",
      "YOU (2024-11-24 19:08:14):: Not at all. Some people connect deeply with past eras, and that’s perfectly valid. It’s about finding your own rhythm.\n",
      "THE FAN (2024-11-24 19:08:14):: That’s really reassuring. Sometimes I just want to escape into another time.\n",
      "That’s understandable. Just remember that you can bring elements of those eras into your life now.\n"
     ]
    }
   ],
   "source": [
    "print(trainset[0])\n",
    "print(trainset[0].chat_history)\n",
    "print(trainset[0].output)\n",
    "print(\"-----------------\")\n",
    "print(trainset[1])\n",
    "print(trainset[1].chat_history)\n",
    "print(trainset[1].output)\n",
    "print(\"-----------------\")\n",
    "print(test_set[0])\n",
    "print(test_set[0].chat_history)\n",
    "print(test_set[0].output)"
   ]
  },
  {
   "cell_type": "code",
   "execution_count": 16,
   "metadata": {},
   "outputs": [
    {
     "data": {
      "text/plain": [
       "8"
      ]
     },
     "execution_count": 16,
     "metadata": {},
     "output_type": "execute_result"
    }
   ],
   "source": [
    "len(trainset)"
   ]
  },
  {
   "cell_type": "markdown",
   "metadata": {},
   "source": [
    "# KNN Training"
   ]
  },
  {
   "cell_type": "code",
   "execution_count": 17,
   "metadata": {},
   "outputs": [],
   "source": [
    "from dspy.teleprompt import KNNFewShot\n",
    "\n",
    "knn_teleprompter = KNNFewShot(3, trainset)\n",
    "compiled_knn = knn_teleprompter.compile(ResponderModule(), trainset=trainset)"
   ]
  },
  {
   "cell_type": "code",
   "execution_count": 18,
   "metadata": {},
   "outputs": [
    {
     "name": "stdout",
     "output_type": "stream",
     "text": [
      "THE FAN (2024-11-24 19:08:24):: I sometimes feel like I’m an ‘old soul’ in a world that’s moving too fast. Is that weird?\n",
      "YOU (2024-11-24 19:08:24):: Not at all. Some people connect deeply with past eras, and that’s perfectly valid. It’s about finding your own rhythm.\n",
      "THE FAN (2024-11-24 19:08:24):: That’s really reassuring. Sometimes I just want to escape into another time.\n"
     ]
    },
    {
     "name": "stderr",
     "output_type": "stream",
     "text": [
      "100%|██████████| 3/3 [00:13<00:00,  4.39s/it]\n"
     ]
    },
    {
     "name": "stdout",
     "output_type": "stream",
     "text": [
      "Bootstrapped 3 full traces after 2 examples for up to 1 rounds, amounting to 3 attempts.\n",
      "Escapism isn’t inherently bad; it can be therapeutic! Consider weaving aspects of those beloved times into your daily routines—like reading classic literature, listening to vinyl records, or practicing traditional crafts. This way, you bring a piece of those worlds closer to yours.\n",
      "That’s understandable. Just remember that you can bring elements of those eras into your life now.\n",
      "-----------------\n",
      "THE FAN (2024-11-24 19:08:44):: How do you find meaning in a world that feels like it’s spinning out of control?\n",
      "YOU (2024-11-24 19:08:44):: Meaning is often found in the small things: conversations, creativity, and connections. Focusing on those can help ground you.\n",
      "THE FAN (2024-11-24 19:08:44):: I’ll try focusing on my small joys—like vintage records and herbal teas.\n"
     ]
    },
    {
     "name": "stderr",
     "output_type": "stream",
     "text": [
      "100%|██████████| 3/3 [00:16<00:00,  5.66s/it]\n"
     ]
    },
    {
     "name": "stdout",
     "output_type": "stream",
     "text": [
      "Bootstrapped 3 full traces after 2 examples for up to 1 rounds, amounting to 3 attempts.\n",
      "Those sound lovely! Cultivating joy through simple pleasures can create pockets of peace even in turbulent times.\n",
      "Perfect. Those are your anchors. In a chaotic world, even small rituals can be deeply meaningful.\n",
      "-----------------\n"
     ]
    }
   ],
   "source": [
    "for test in test_set:\n",
    "    print(test.chat_history)\n",
    "    pred = compiled_knn.forward(chat_history=test.chat_history).output\n",
    "    print(pred)\n",
    "    print(test.output)\n",
    "    print(\"-----------------\")"
   ]
  },
  {
   "cell_type": "code",
   "execution_count": 20,
   "metadata": {},
   "outputs": [
    {
     "name": "stderr",
     "output_type": "stream",
     "text": [
      "100%|██████████| 3/3 [00:15<00:00,  5.25s/it]\n"
     ]
    },
    {
     "name": "stdout",
     "output_type": "stream",
     "text": [
      "Bootstrapped 3 full traces after 2 examples for up to 1 rounds, amounting to 3 attempts.\n"
     ]
    },
    {
     "data": {
      "text/plain": [
       "\"Growth starts from within! Take time to reflect on what truly resonates with you - whether it's through journaling, meditation, or exploring new hobbies. Discovering what sparks joy and curiosity in you is a powerful first step.\""
      ]
     },
     "execution_count": 20,
     "metadata": {},
     "output_type": "execute_result"
    }
   ],
   "source": [
    "chat_history = ChatHistory()\n",
    "\n",
    "chat_history.messages.append(\n",
    "    ChatMessage(\n",
    "        from_creator=False,\n",
    "        content=\"How can I grow as a person?\",\n",
    "    )\n",
    ")\n",
    "\n",
    "compiled_knn.forward(chat_history=chat_history).output"
   ]
  },
  {
   "cell_type": "code",
   "execution_count": 23,
   "metadata": {},
   "outputs": [
    {
     "data": {
      "text/plain": [
       "\"Hey there! It seems like you're really struggling with thoughts about personal growth right now. First off, please know you're not alone in feeling this way! For immediate support, consider reaching out to someone close to you or even professional services if needed - they can offer tailored guidance which is super valuable! On my end, focusing on self-care, setting achievable goals, and learning new skills have been helpful. But remember, everyone’s journey is unique! What do you feel would make you feel more fulfilled?\""
      ]
     },
     "execution_count": 23,
     "metadata": {},
     "output_type": "execute_result"
    }
   ],
   "source": [
    "chat_history.messages.append(\n",
    "    ChatMessage(\n",
    "        from_creator=False,\n",
    "        content=\"How can I grow as a person?\",\n",
    "    )\n",
    ")\n",
    "chatter.forward(chat_history=chat_history).output"
   ]
  }
 ],
 "metadata": {
  "kernelspec": {
   "display_name": ".venv",
   "language": "python",
   "name": "python3"
  },
  "language_info": {
   "codemirror_mode": {
    "name": "ipython",
    "version": 3
   },
   "file_extension": ".py",
   "mimetype": "text/x-python",
   "name": "python",
   "nbconvert_exporter": "python",
   "pygments_lexer": "ipython3",
   "version": "3.12.7"
  }
 },
 "nbformat": 4,
 "nbformat_minor": 2
}
